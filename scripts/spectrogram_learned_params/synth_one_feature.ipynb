{
 "cells": [
  {
   "cell_type": "code",
   "execution_count": 5,
   "metadata": {},
   "outputs": [],
   "source": [
    "import numpy as np\n",
    "import torch\n",
    "import librosa"
   ]
  },
  {
   "cell_type": "code",
   "execution_count": 6,
   "metadata": {},
   "outputs": [],
   "source": [
    "y,sr = librosa.load('../bach.wav')\n",
    "true_spec = librosa.stft(y,n_fft=2048)\n",
    "true_mag = np.abs(true_spec)\n",
    "true_mag = true_mag.T\n",
    "true_mag = true_mag[:500,:]\n",
    "true_phase = np.angle(true_spec)\n",
    "true_phase = true_phase.T[:500,:].T"
   ]
  },
  {
   "cell_type": "code",
   "execution_count": 7,
   "metadata": {},
   "outputs": [
    {
     "data": {
      "text/plain": [
       "(1025, 500)"
      ]
     },
     "execution_count": 7,
     "metadata": {},
     "output_type": "execute_result"
    }
   ],
   "source": [
    "true_phase.shape"
   ]
  },
  {
   "cell_type": "code",
   "execution_count": 9,
   "metadata": {},
   "outputs": [],
   "source": [
    "recovered_mag = np.load('one_feature.npy')"
   ]
  },
  {
   "cell_type": "code",
   "execution_count": 11,
   "metadata": {},
   "outputs": [],
   "source": [
    "recovered_mag = recovered_mag.T"
   ]
  },
  {
   "cell_type": "code",
   "execution_count": 12,
   "metadata": {},
   "outputs": [],
   "source": [
    "real = np.multiply(recovered_mag,np.cos(true_phase))\n",
    "imag = np.multiply(recovered_mag,np.sin(true_phase))\n",
    "spec = real + imag*np.complex(0,1)\n",
    "y_reconstruct = librosa.istft(spec)\n",
    "librosa.output.write_wav('one_feature_reconstruct.wav',y_reconstruct,sr)"
   ]
  },
  {
   "cell_type": "code",
   "execution_count": null,
   "metadata": {},
   "outputs": [],
   "source": []
  }
 ],
 "metadata": {
  "kernelspec": {
   "display_name": "Python 3",
   "language": "python",
   "name": "python3"
  },
  "language_info": {
   "codemirror_mode": {
    "name": "ipython",
    "version": 3
   },
   "file_extension": ".py",
   "mimetype": "text/x-python",
   "name": "python",
   "nbconvert_exporter": "python",
   "pygments_lexer": "ipython3",
   "version": "3.6.7"
  }
 },
 "nbformat": 4,
 "nbformat_minor": 2
}
